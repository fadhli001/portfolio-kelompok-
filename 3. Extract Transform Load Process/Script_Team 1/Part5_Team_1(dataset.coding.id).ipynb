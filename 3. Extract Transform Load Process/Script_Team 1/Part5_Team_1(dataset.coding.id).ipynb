{
 "cells": [
  {
   "cell_type": "markdown",
   "id": "553226f6-3c9a-4b29-adf1-03e0cd591fed",
   "metadata": {
    "tags": []
   },
   "source": [
    "# PART_5 (Dataset_coding_id)"
   ]
  },
  {
   "cell_type": "markdown",
   "id": "bd278a84-c8b1-46bc-985c-c6a56e17235f",
   "metadata": {
    "tags": []
   },
   "source": [
    "## load"
   ]
  },
  {
   "cell_type": "code",
   "execution_count": 3,
   "id": "3b2629ca-dd4a-47d9-8176-0e4ec011301d",
   "metadata": {
    "tags": []
   },
   "outputs": [],
   "source": [
    "%load_ext google.cloud.bigquery"
   ]
  },
  {
   "cell_type": "code",
   "execution_count": 4,
   "id": "5b8de16a-5d17-47c6-b0ec-9af46b7e15a2",
   "metadata": {
    "tags": []
   },
   "outputs": [],
   "source": [
    "%reload_ext google.cloud.bigquery"
   ]
  },
  {
   "cell_type": "code",
   "execution_count": 5,
   "id": "8a9a6529-4bd8-44ef-a282-38628ddaba4f",
   "metadata": {
    "tags": []
   },
   "outputs": [],
   "source": [
    "import os\n",
    "import pandas as pd\n",
    "from google.cloud import bigquery\n",
    "import google.auth\n",
    "from google.cloud import bigquery"
   ]
  },
  {
   "cell_type": "code",
   "execution_count": 6,
   "id": "7b26ae7e-b46c-4a44-9c5a-d8a6298b45c6",
   "metadata": {
    "tags": []
   },
   "outputs": [],
   "source": [
    "os.environ['GOOGLE_APPLICATION_CREDENTIALS'] = 'aqueous-freedom-398208-cfe0d4e567f2.json'"
   ]
  },
  {
   "cell_type": "code",
   "execution_count": 7,
   "id": "fd880fb4-a645-4a3a-afb1-a7af65405dc8",
   "metadata": {
    "tags": []
   },
   "outputs": [],
   "source": [
    "bigquery_client = bigquery.Client()"
   ]
  },
  {
   "cell_type": "markdown",
   "id": "8f00ce42-0dec-499a-a664-e9b9c75290e0",
   "metadata": {
    "tags": []
   },
   "source": [
    "## revenue harian perkota"
   ]
  },
  {
   "cell_type": "code",
   "execution_count": 17,
   "id": "a4b0d1f2-6ef2-41e2-9ce1-d02b9bde626a",
   "metadata": {
    "tags": []
   },
   "outputs": [
    {
     "data": {
      "text/html": [
       "<div>\n",
       "<style scoped>\n",
       "    .dataframe tbody tr th:only-of-type {\n",
       "        vertical-align: middle;\n",
       "    }\n",
       "\n",
       "    .dataframe tbody tr th {\n",
       "        vertical-align: top;\n",
       "    }\n",
       "\n",
       "    .dataframe thead th {\n",
       "        text-align: right;\n",
       "    }\n",
       "</style>\n",
       "<table border=\"1\" class=\"dataframe\">\n",
       "  <thead>\n",
       "    <tr style=\"text-align: right;\">\n",
       "      <th></th>\n",
       "      <th>transaction_date</th>\n",
       "      <th>city</th>\n",
       "      <th>daily_revenue</th>\n",
       "    </tr>\n",
       "  </thead>\n",
       "  <tbody>\n",
       "    <tr>\n",
       "      <th>0</th>\n",
       "      <td>2024-01-02</td>\n",
       "      <td>Surabaya</td>\n",
       "      <td>223052</td>\n",
       "    </tr>\n",
       "    <tr>\n",
       "      <th>1</th>\n",
       "      <td>2024-01-03</td>\n",
       "      <td>Bandung</td>\n",
       "      <td>111359</td>\n",
       "    </tr>\n",
       "    <tr>\n",
       "      <th>2</th>\n",
       "      <td>2024-01-03</td>\n",
       "      <td>Surabaya</td>\n",
       "      <td>277131</td>\n",
       "    </tr>\n",
       "    <tr>\n",
       "      <th>3</th>\n",
       "      <td>2024-01-04</td>\n",
       "      <td>Bandung</td>\n",
       "      <td>171451</td>\n",
       "    </tr>\n",
       "    <tr>\n",
       "      <th>4</th>\n",
       "      <td>2024-01-04</td>\n",
       "      <td>Jakarta</td>\n",
       "      <td>291440</td>\n",
       "    </tr>\n",
       "    <tr>\n",
       "      <th>...</th>\n",
       "      <td>...</td>\n",
       "      <td>...</td>\n",
       "      <td>...</td>\n",
       "    </tr>\n",
       "    <tr>\n",
       "      <th>116</th>\n",
       "      <td>2024-02-29</td>\n",
       "      <td>Bandung</td>\n",
       "      <td>188567</td>\n",
       "    </tr>\n",
       "    <tr>\n",
       "      <th>117</th>\n",
       "      <td>2024-02-29</td>\n",
       "      <td>Jakarta</td>\n",
       "      <td>455069</td>\n",
       "    </tr>\n",
       "    <tr>\n",
       "      <th>118</th>\n",
       "      <td>2024-03-01</td>\n",
       "      <td>Denpasar</td>\n",
       "      <td>1836172</td>\n",
       "    </tr>\n",
       "    <tr>\n",
       "      <th>119</th>\n",
       "      <td>2024-03-01</td>\n",
       "      <td>Jakarta</td>\n",
       "      <td>137290</td>\n",
       "    </tr>\n",
       "    <tr>\n",
       "      <th>120</th>\n",
       "      <td>2024-03-01</td>\n",
       "      <td>Surabaya</td>\n",
       "      <td>122742</td>\n",
       "    </tr>\n",
       "  </tbody>\n",
       "</table>\n",
       "<p>121 rows × 3 columns</p>\n",
       "</div>"
      ],
      "text/plain": [
       "    transaction_date      city  daily_revenue\n",
       "0         2024-01-02  Surabaya         223052\n",
       "1         2024-01-03   Bandung         111359\n",
       "2         2024-01-03  Surabaya         277131\n",
       "3         2024-01-04   Bandung         171451\n",
       "4         2024-01-04   Jakarta         291440\n",
       "..               ...       ...            ...\n",
       "116       2024-02-29   Bandung         188567\n",
       "117       2024-02-29   Jakarta         455069\n",
       "118       2024-03-01  Denpasar        1836172\n",
       "119       2024-03-01   Jakarta         137290\n",
       "120       2024-03-01  Surabaya         122742\n",
       "\n",
       "[121 rows x 3 columns]"
      ]
     },
     "execution_count": 17,
     "metadata": {},
     "output_type": "execute_result"
    }
   ],
   "source": [
    "query1 = \"\"\"  \n",
    "SELECT\n",
    "    t.transaction_date,\n",
    "    r.kota AS city,\n",
    "    SUM(t.price) AS daily_revenue\n",
    "FROM`aqueous-freedom-398208.ok_food_dataset.transaction_2024` t\n",
    "INNER JOIN`aqueous-freedom-398208.ok_food_dataset.resto` r ON t.resto_id = r.id\n",
    "\n",
    "GROUP BY t.transaction_date, r.kota\n",
    "ORDER BY t.transaction_date, r.kota;\n",
    "\n",
    "\"\"\"\n",
    " \n",
    "\n",
    "result1 = bigquery_client.query(query1)\n",
    "df1 = result1.to_dataframe()\n",
    "df1"
   ]
  },
  {
   "cell_type": "markdown",
   "id": "63e061f9-5065-4b4c-b058-ad1e7126ca6f",
   "metadata": {
    "tags": []
   },
   "source": [
    "## customer segmentation"
   ]
  },
  {
   "cell_type": "code",
   "execution_count": 99,
   "id": "a8054f5b-e319-4307-93b7-1dbe87b17885",
   "metadata": {
    "tags": []
   },
   "outputs": [
    {
     "data": {
      "text/html": [
       "<div>\n",
       "<style scoped>\n",
       "    .dataframe tbody tr th:only-of-type {\n",
       "        vertical-align: middle;\n",
       "    }\n",
       "\n",
       "    .dataframe tbody tr th {\n",
       "        vertical-align: top;\n",
       "    }\n",
       "\n",
       "    .dataframe thead th {\n",
       "        text-align: right;\n",
       "    }\n",
       "</style>\n",
       "<table border=\"1\" class=\"dataframe\">\n",
       "  <thead>\n",
       "    <tr style=\"text-align: right;\">\n",
       "      <th></th>\n",
       "    </tr>\n",
       "  </thead>\n",
       "  <tbody>\n",
       "  </tbody>\n",
       "</table>\n",
       "</div>"
      ],
      "text/plain": [
       "Empty DataFrame\n",
       "Columns: []\n",
       "Index: []"
      ]
     },
     "execution_count": 99,
     "metadata": {},
     "output_type": "execute_result"
    }
   ],
   "source": [
    "query3 = \"\"\"\n",
    "drop table if exists `aqueous-freedom-398208.OFD_Team_1.coding_id_customer_segmentasi`;\n",
    "CREATE TABLE `aqueous-freedom-398208.OFD_Team_1.coding_id_customer_segmentasi`as\n",
    "WITH tabel AS (\n",
    "    SELECT\n",
    "        c.id AS customer_id,\n",
    "        c.name,\n",
    "        DATE_SUB(CURRENT_DATE(), INTERVAL 30 DAY) AS last_order_date,\n",
    "        COUNT(t.id) AS total_transaction,\n",
    "        COALESCE(SUM(t.price), 0) AS total_spending\n",
    "    FROM aqueous-freedom-398208.ok_food_dataset.customer c\n",
    "    LEFT JOIN aqueous-freedom-398208.ok_food_dataset.transaction_2024 t ON c.id = t.customer_id\n",
    "    WHERE t.transaction_date >= DATE_SUB(CURRENT_DATE(), INTERVAL 30 DAY)\n",
    "    GROUP BY c.id, c.name\n",
    ")\n",
    "SELECT\n",
    "    customer_id,\n",
    "    name,\n",
    "    DATE_SUB(CURRENT_DATE(), INTERVAL 0 DAY) AS today_date,\n",
    "    DATE_SUB(CURRENT_DATE(), INTERVAL 30 DAY) AS last_order,\n",
    "    total_transaction,\n",
    "    total_spending,\n",
    "    CASE \n",
    "        WHEN total_spending >= 500001 THEN 'Big Spender'\n",
    "        WHEN total_transaction <= 1 THEN 'New'\n",
    "        WHEN total_transaction <= 5 THEN 'Good'\n",
    "        WHEN total_transaction <= 10 THEN 'Potential'\n",
    "        ELSE 'Loyalist'\n",
    "    END AS segmentation\n",
    "FROM tabel\n",
    "ORDER BY last_order_date DESC;\n",
    "\n",
    "\n",
    "\"\"\"\n",
    "\n",
    "result3 = bigquery_client.query(query3)\n",
    "df3 = result3.to_dataframe()\n",
    "df3"
   ]
  },
  {
   "cell_type": "markdown",
   "id": "a51d8ce6-2c7d-427f-875d-7177a3675a00",
   "metadata": {
    "tags": []
   },
   "source": [
    "## Growth Harian Perkota"
   ]
  },
  {
   "cell_type": "code",
   "execution_count": 100,
   "id": "3736f686-4836-444b-aa43-0ca303480e76",
   "metadata": {
    "tags": []
   },
   "outputs": [
    {
     "data": {
      "text/html": [
       "<div>\n",
       "<style scoped>\n",
       "    .dataframe tbody tr th:only-of-type {\n",
       "        vertical-align: middle;\n",
       "    }\n",
       "\n",
       "    .dataframe tbody tr th {\n",
       "        vertical-align: top;\n",
       "    }\n",
       "\n",
       "    .dataframe thead th {\n",
       "        text-align: right;\n",
       "    }\n",
       "</style>\n",
       "<table border=\"1\" class=\"dataframe\">\n",
       "  <thead>\n",
       "    <tr style=\"text-align: right;\">\n",
       "      <th></th>\n",
       "    </tr>\n",
       "  </thead>\n",
       "  <tbody>\n",
       "  </tbody>\n",
       "</table>\n",
       "</div>"
      ],
      "text/plain": [
       "Empty DataFrame\n",
       "Columns: []\n",
       "Index: []"
      ]
     },
     "execution_count": 100,
     "metadata": {},
     "output_type": "execute_result"
    }
   ],
   "source": [
    "query3 = \"\"\"\n",
    "drop table if exists `aqueous-freedom-398208.OFD_Team_1.coding_id__growth_harian`;\n",
    "CREATE TABLE `aqueous-freedom-398208.OFD_Team_1.coding_id__growth_harian`as\n",
    "WITH DailyRevenue AS (\n",
    "    SELECT\n",
    "        r.kota AS Kota,\n",
    "        t.transaction_date AS Tanggal,\n",
    "        SUM(t.price) AS Revenue,\n",
    "        LAG(SUM(t.price), 1) OVER (PARTITION BY r.kota ORDER BY t.transaction_date) AS Revenue_Hari_Kemarin,\n",
    "        LAG(SUM(t.price), 2) OVER (PARTITION BY r.kota ORDER BY t.transaction_date) AS Revenue_Dua_Hari_Sebelumnya\n",
    "    FROM\n",
    "        `aqueous-freedom-398208.ok_food_dataset.transaction_2024` t\n",
    "    INNER JOIN\n",
    "        `aqueous-freedom-398208.ok_food_dataset.resto` r ON t.resto_id = r.id\n",
    "    GROUP BY\n",
    "        r.kota, t.transaction_date\n",
    ")\n",
    "\n",
    "SELECT\n",
    "    Kota,\n",
    "    Tanggal,\n",
    "    COALESCE(Revenue_Hari_Kemarin, Revenue_Dua_Hari_Sebelumnya, 0) AS Revenue_Hari_Kemarin,\n",
    "    Revenue,\n",
    "    CASE\n",
    "        WHEN COALESCE(Revenue_Hari_Kemarin, Revenue_Dua_Hari_Sebelumnya) IS NULL THEN NULL\n",
    "        ELSE CONCAT(ROUND(((Revenue - COALESCE(Revenue_Hari_Kemarin, Revenue_Dua_Hari_Sebelumnya)) / NULLIF(COALESCE(Revenue_Hari_Kemarin, Revenue_Dua_Hari_Sebelumnya), 0)) * 100, 2), '%')\n",
    "    END AS Growth_Rate_Percentage\n",
    "FROM\n",
    "    DailyRevenue\n",
    "ORDER BY\n",
    "    Kota, Tanggal;\n",
    "\n",
    "\"\"\"\n",
    "\n",
    "result3 = bigquery_client.query(query3)\n",
    "df3 = result3.to_dataframe()\n",
    "df3"
   ]
  },
  {
   "cell_type": "markdown",
   "id": "09a8b92c-f812-46c6-aedc-b81166e7f35a",
   "metadata": {
    "tags": []
   },
   "source": [
    "## kontribusi harian per kota"
   ]
  },
  {
   "cell_type": "code",
   "execution_count": 101,
   "id": "a0d5d9d4-865c-4ff8-a9d7-4d81d67546fc",
   "metadata": {
    "tags": []
   },
   "outputs": [
    {
     "data": {
      "text/html": [
       "<div>\n",
       "<style scoped>\n",
       "    .dataframe tbody tr th:only-of-type {\n",
       "        vertical-align: middle;\n",
       "    }\n",
       "\n",
       "    .dataframe tbody tr th {\n",
       "        vertical-align: top;\n",
       "    }\n",
       "\n",
       "    .dataframe thead th {\n",
       "        text-align: right;\n",
       "    }\n",
       "</style>\n",
       "<table border=\"1\" class=\"dataframe\">\n",
       "  <thead>\n",
       "    <tr style=\"text-align: right;\">\n",
       "      <th></th>\n",
       "    </tr>\n",
       "  </thead>\n",
       "  <tbody>\n",
       "  </tbody>\n",
       "</table>\n",
       "</div>"
      ],
      "text/plain": [
       "Empty DataFrame\n",
       "Columns: []\n",
       "Index: []"
      ]
     },
     "execution_count": 101,
     "metadata": {},
     "output_type": "execute_result"
    }
   ],
   "source": [
    "query4 = \"\"\"\n",
    "drop table if exists `aqueous-freedom-398208.OFD_Team_1.coding_id_kontribusi_harian_perkota`;\n",
    "CREATE TABLE `aqueous-freedom-398208.OFD_Team_1.coding_id_kontribusi_harian_perkota`as\n",
    "WITH city_daily_revenue AS (\n",
    "    SELECT\n",
    "        t.transaction_date AS date,\n",
    "        r.kota AS city,\n",
    "        SUM(t.price) AS total_revenue\n",
    "    FROM\n",
    "        `aqueous-freedom-398208.ok_food_dataset.transaction_2024` t\n",
    "    INNER JOIN\n",
    "        `aqueous-freedom-398208.ok_food_dataset.resto` r ON t.resto_id = r.id\n",
    "    GROUP BY\n",
    "        t.transaction_date, r.kota\n",
    "),\n",
    "daily_total AS (\n",
    "    SELECT\n",
    "        transaction_date AS order_date,\n",
    "        SUM(price) AS total_revenue_all_cities\n",
    "    FROM\n",
    "        `aqueous-freedom-398208.ok_food_dataset.transaction_2024`\n",
    "    GROUP BY\n",
    "        transaction_date\n",
    ")\n",
    "SELECT\n",
    "    cdr.date,\n",
    "    cdr.city,\n",
    "    cdr.total_revenue,\n",
    "    ROUND((cdr.total_revenue / dt.total_revenue_all_cities) * 100, 0) AS contribution\n",
    "FROM\n",
    "    city_daily_revenue AS cdr    \n",
    "JOIN\n",
    "    daily_total AS dt ON cdr.date = dt.order_date\n",
    "ORDER BY\n",
    "    cdr.date, cdr.city;\n",
    "\n",
    "\"\"\"\n",
    "result4 = bigquery_client.query(query4)\n",
    "df4 = result4.to_dataframe()\n",
    "df4\n"
   ]
  },
  {
   "cell_type": "code",
   "execution_count": null,
   "id": "1eebddd1-ccdb-4bbd-91c7-3eb9ddaeadc7",
   "metadata": {},
   "outputs": [],
   "source": []
  }
 ],
 "metadata": {
  "kernelspec": {
   "display_name": "Python 3 (ipykernel)",
   "language": "python",
   "name": "python3"
  },
  "language_info": {
   "codemirror_mode": {
    "name": "ipython",
    "version": 3
   },
   "file_extension": ".py",
   "mimetype": "text/x-python",
   "name": "python",
   "nbconvert_exporter": "python",
   "pygments_lexer": "ipython3",
   "version": "3.11.5"
  }
 },
 "nbformat": 4,
 "nbformat_minor": 5
}
