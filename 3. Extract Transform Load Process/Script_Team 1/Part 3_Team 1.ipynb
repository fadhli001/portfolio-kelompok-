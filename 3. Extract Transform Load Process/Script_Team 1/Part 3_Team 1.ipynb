{
 "cells": [
  {
   "cell_type": "markdown",
   "id": "369097cc-9e2f-43fe-9429-3997dc7d8cf0",
   "metadata": {},
   "source": [
    "# Part 3: Exploratory Data Analysis"
   ]
  },
  {
   "cell_type": "markdown",
   "id": "b35e1f79-e011-4fc8-8bb3-571563319a2f",
   "metadata": {
    "jp-MarkdownHeadingCollapsed": true,
    "tags": []
   },
   "source": [
    "## Import and Load"
   ]
  },
  {
   "cell_type": "code",
   "execution_count": 1,
   "id": "760ec976-4cf0-4040-a11d-6671b23c93d4",
   "metadata": {
    "tags": []
   },
   "outputs": [],
   "source": [
    "%load_ext google.cloud.bigquery"
   ]
  },
  {
   "cell_type": "code",
   "execution_count": 2,
   "id": "a47d2d82-d4c4-4add-8dd4-6fe5ce02efb5",
   "metadata": {
    "tags": []
   },
   "outputs": [],
   "source": [
    "import os\n",
    "import pandas as pd\n",
    "from google.cloud import bigquery\n",
    "import google.auth\n",
    "from google.cloud import bigquery"
   ]
  },
  {
   "cell_type": "code",
   "execution_count": 3,
   "id": "5e974e83-f329-4389-bb00-e64badfaa5c3",
   "metadata": {
    "tags": []
   },
   "outputs": [],
   "source": [
    "os.environ['GOOGLE_APPLICATION_CREDENTIALS'] = 'C:/Users\\Asus/Documents/DE-CodingID/aqueous-freedom-398208-cfe0d4e567f2.json'"
   ]
  },
  {
   "cell_type": "code",
   "execution_count": 4,
   "id": "80bc211e-0e22-468d-a11b-9120ffbfe66a",
   "metadata": {
    "tags": []
   },
   "outputs": [],
   "source": [
    "bigquery_client = bigquery.Client()"
   ]
  },
  {
   "cell_type": "markdown",
   "id": "2b378b99-9c3b-4f77-b717-1a618d8af712",
   "metadata": {},
   "source": [
    "## 1. Apakah semua data yang masuk komplit? Semua column/row terisi?"
   ]
  },
  {
   "cell_type": "markdown",
   "id": "09b9bc25-2f48-40b1-8769-242de89098cd",
   "metadata": {
    "jp-MarkdownHeadingCollapsed": true,
    "tags": []
   },
   "source": [
    "#### Cek column/row 'Customer'"
   ]
  },
  {
   "cell_type": "code",
   "execution_count": 14,
   "id": "a990812f-abf6-4025-a2c0-8d185c2af3d9",
   "metadata": {
    "tags": []
   },
   "outputs": [
    {
     "data": {
      "text/html": [
       "<div>\n",
       "<style scoped>\n",
       "    .dataframe tbody tr th:only-of-type {\n",
       "        vertical-align: middle;\n",
       "    }\n",
       "\n",
       "    .dataframe tbody tr th {\n",
       "        vertical-align: top;\n",
       "    }\n",
       "\n",
       "    .dataframe thead th {\n",
       "        text-align: right;\n",
       "    }\n",
       "</style>\n",
       "<table border=\"1\" class=\"dataframe\">\n",
       "  <thead>\n",
       "    <tr style=\"text-align: right;\">\n",
       "      <th></th>\n",
       "      <th>id_customer</th>\n",
       "      <th>name</th>\n",
       "      <th>registration_date</th>\n",
       "      <th>contact</th>\n",
       "    </tr>\n",
       "  </thead>\n",
       "  <tbody>\n",
       "    <tr>\n",
       "      <th>0</th>\n",
       "      <td>1</td>\n",
       "      <td>Fadhli</td>\n",
       "      <td>2023-11-01</td>\n",
       "      <td>7834</td>\n",
       "    </tr>\n",
       "    <tr>\n",
       "      <th>1</th>\n",
       "      <td>2</td>\n",
       "      <td>Ridho</td>\n",
       "      <td>2023-11-02</td>\n",
       "      <td>2956</td>\n",
       "    </tr>\n",
       "    <tr>\n",
       "      <th>2</th>\n",
       "      <td>3</td>\n",
       "      <td>Syaikh</td>\n",
       "      <td>2023-11-03</td>\n",
       "      <td>6412</td>\n",
       "    </tr>\n",
       "    <tr>\n",
       "      <th>3</th>\n",
       "      <td>4</td>\n",
       "      <td>Fine</td>\n",
       "      <td>2023-11-04</td>\n",
       "      <td>5078</td>\n",
       "    </tr>\n",
       "    <tr>\n",
       "      <th>4</th>\n",
       "      <td>5</td>\n",
       "      <td>Dika</td>\n",
       "      <td>2023-11-05</td>\n",
       "      <td>1239</td>\n",
       "    </tr>\n",
       "    <tr>\n",
       "      <th>5</th>\n",
       "      <td>6</td>\n",
       "      <td>Beri</td>\n",
       "      <td>2023-11-06</td>\n",
       "      <td>8645</td>\n",
       "    </tr>\n",
       "    <tr>\n",
       "      <th>6</th>\n",
       "      <td>7</td>\n",
       "      <td>Budi</td>\n",
       "      <td>2023-11-07</td>\n",
       "      <td>3091</td>\n",
       "    </tr>\n",
       "    <tr>\n",
       "      <th>7</th>\n",
       "      <td>8</td>\n",
       "      <td>Badu</td>\n",
       "      <td>2023-11-08</td>\n",
       "      <td>5726</td>\n",
       "    </tr>\n",
       "    <tr>\n",
       "      <th>8</th>\n",
       "      <td>9</td>\n",
       "      <td>Coki</td>\n",
       "      <td>2023-11-09</td>\n",
       "      <td>1863</td>\n",
       "    </tr>\n",
       "    <tr>\n",
       "      <th>9</th>\n",
       "      <td>10</td>\n",
       "      <td>David</td>\n",
       "      <td>2023-11-10</td>\n",
       "      <td>9542</td>\n",
       "    </tr>\n",
       "    <tr>\n",
       "      <th>10</th>\n",
       "      <td>11</td>\n",
       "      <td>Danu</td>\n",
       "      <td>2023-11-11</td>\n",
       "      <td>4276</td>\n",
       "    </tr>\n",
       "    <tr>\n",
       "      <th>11</th>\n",
       "      <td>12</td>\n",
       "      <td>Dodi</td>\n",
       "      <td>2023-11-12</td>\n",
       "      <td>5081</td>\n",
       "    </tr>\n",
       "    <tr>\n",
       "      <th>12</th>\n",
       "      <td>13</td>\n",
       "      <td>Dedi</td>\n",
       "      <td>2023-11-13</td>\n",
       "      <td>7392</td>\n",
       "    </tr>\n",
       "    <tr>\n",
       "      <th>13</th>\n",
       "      <td>14</td>\n",
       "      <td>Endang</td>\n",
       "      <td>2023-11-14</td>\n",
       "      <td>6158</td>\n",
       "    </tr>\n",
       "    <tr>\n",
       "      <th>14</th>\n",
       "      <td>15</td>\n",
       "      <td>Eric</td>\n",
       "      <td>2023-11-15</td>\n",
       "      <td>2947</td>\n",
       "    </tr>\n",
       "    <tr>\n",
       "      <th>15</th>\n",
       "      <td>16</td>\n",
       "      <td>Eti</td>\n",
       "      <td>2023-11-16</td>\n",
       "      <td>8304</td>\n",
       "    </tr>\n",
       "    <tr>\n",
       "      <th>16</th>\n",
       "      <td>17</td>\n",
       "      <td>Fahri</td>\n",
       "      <td>2023-11-17</td>\n",
       "      <td>1625</td>\n",
       "    </tr>\n",
       "    <tr>\n",
       "      <th>17</th>\n",
       "      <td>18</td>\n",
       "      <td>Fahmi</td>\n",
       "      <td>2023-11-18</td>\n",
       "      <td>4957</td>\n",
       "    </tr>\n",
       "    <tr>\n",
       "      <th>18</th>\n",
       "      <td>19</td>\n",
       "      <td>Farhan</td>\n",
       "      <td>2023-11-19</td>\n",
       "      <td>2316</td>\n",
       "    </tr>\n",
       "    <tr>\n",
       "      <th>19</th>\n",
       "      <td>20</td>\n",
       "      <td>Faishal</td>\n",
       "      <td>2023-11-20</td>\n",
       "      <td>9674</td>\n",
       "    </tr>\n",
       "    <tr>\n",
       "      <th>20</th>\n",
       "      <td>21</td>\n",
       "      <td>Fauzan</td>\n",
       "      <td>2023-11-21</td>\n",
       "      <td>5409</td>\n",
       "    </tr>\n",
       "    <tr>\n",
       "      <th>21</th>\n",
       "      <td>22</td>\n",
       "      <td>Geri</td>\n",
       "      <td>2023-11-22</td>\n",
       "      <td>3816</td>\n",
       "    </tr>\n",
       "    <tr>\n",
       "      <th>22</th>\n",
       "      <td>23</td>\n",
       "      <td>Harun</td>\n",
       "      <td>2023-11-23</td>\n",
       "      <td>6942</td>\n",
       "    </tr>\n",
       "    <tr>\n",
       "      <th>23</th>\n",
       "      <td>24</td>\n",
       "      <td>Heru</td>\n",
       "      <td>2023-11-24</td>\n",
       "      <td>1785</td>\n",
       "    </tr>\n",
       "    <tr>\n",
       "      <th>24</th>\n",
       "      <td>25</td>\n",
       "      <td>Haris</td>\n",
       "      <td>2023-11-25</td>\n",
       "      <td>4632</td>\n",
       "    </tr>\n",
       "    <tr>\n",
       "      <th>25</th>\n",
       "      <td>26</td>\n",
       "      <td>Iwan</td>\n",
       "      <td>2023-11-26</td>\n",
       "      <td>8025</td>\n",
       "    </tr>\n",
       "    <tr>\n",
       "      <th>26</th>\n",
       "      <td>27</td>\n",
       "      <td>Inul</td>\n",
       "      <td>2023-11-27</td>\n",
       "      <td>5493</td>\n",
       "    </tr>\n",
       "    <tr>\n",
       "      <th>27</th>\n",
       "      <td>28</td>\n",
       "      <td>Ivan</td>\n",
       "      <td>2023-11-28</td>\n",
       "      <td>5493</td>\n",
       "    </tr>\n",
       "    <tr>\n",
       "      <th>28</th>\n",
       "      <td>29</td>\n",
       "      <td>Jeri</td>\n",
       "      <td>2023-11-29</td>\n",
       "      <td>8274</td>\n",
       "    </tr>\n",
       "    <tr>\n",
       "      <th>29</th>\n",
       "      <td>30</td>\n",
       "      <td>Jamal</td>\n",
       "      <td>2023-11-30</td>\n",
       "      <td>6048</td>\n",
       "    </tr>\n",
       "  </tbody>\n",
       "</table>\n",
       "</div>"
      ],
      "text/plain": [
       "    id_customer     name registration_date contact\n",
       "0             1   Fadhli        2023-11-01    7834\n",
       "1             2    Ridho        2023-11-02    2956\n",
       "2             3   Syaikh        2023-11-03    6412\n",
       "3             4     Fine        2023-11-04    5078\n",
       "4             5     Dika        2023-11-05    1239\n",
       "5             6     Beri        2023-11-06    8645\n",
       "6             7     Budi        2023-11-07    3091\n",
       "7             8     Badu        2023-11-08    5726\n",
       "8             9     Coki        2023-11-09    1863\n",
       "9            10    David        2023-11-10    9542\n",
       "10           11     Danu        2023-11-11    4276\n",
       "11           12     Dodi        2023-11-12    5081\n",
       "12           13     Dedi        2023-11-13    7392\n",
       "13           14   Endang        2023-11-14    6158\n",
       "14           15     Eric        2023-11-15    2947\n",
       "15           16      Eti        2023-11-16    8304\n",
       "16           17    Fahri        2023-11-17    1625\n",
       "17           18    Fahmi        2023-11-18    4957\n",
       "18           19   Farhan        2023-11-19    2316\n",
       "19           20  Faishal        2023-11-20    9674\n",
       "20           21   Fauzan        2023-11-21    5409\n",
       "21           22     Geri        2023-11-22    3816\n",
       "22           23    Harun        2023-11-23    6942\n",
       "23           24     Heru        2023-11-24    1785\n",
       "24           25    Haris        2023-11-25    4632\n",
       "25           26     Iwan        2023-11-26    8025\n",
       "26           27     Inul        2023-11-27    5493\n",
       "27           28     Ivan        2023-11-28    5493\n",
       "28           29     Jeri        2023-11-29    8274\n",
       "29           30    Jamal        2023-11-30    6048"
      ]
     },
     "execution_count": 14,
     "metadata": {},
     "output_type": "execute_result"
    }
   ],
   "source": [
    "query1 = \"\"\"\n",
    "SELECT * from `aqueous-freedom-398208.OFD_Team_1.Customer`\n",
    "ORDER BY id_customer ASC;\n",
    "\"\"\"\n",
    "\n",
    "result1 = bigquery_client.query(query1)\n",
    "df1 = result1.to_dataframe()\n",
    "df1"
   ]
  },
  {
   "cell_type": "code",
   "execution_count": 15,
   "id": "98fe6f5b-895a-40d5-bcf6-0966285a150b",
   "metadata": {
    "tags": []
   },
   "outputs": [
    {
     "name": "stdout",
     "output_type": "stream",
     "text": [
      "<class 'pandas.core.frame.DataFrame'>\n",
      "RangeIndex: 30 entries, 0 to 29\n",
      "Data columns (total 4 columns):\n",
      " #   Column             Non-Null Count  Dtype \n",
      "---  ------             --------------  ----- \n",
      " 0   id_customer        30 non-null     Int64 \n",
      " 1   name               30 non-null     object\n",
      " 2   registration_date  30 non-null     dbdate\n",
      " 3   contact            30 non-null     object\n",
      "dtypes: Int64(1), dbdate(1), object(2)\n",
      "memory usage: 1.1+ KB\n"
     ]
    }
   ],
   "source": [
    "df1.info()"
   ]
  },
  {
   "cell_type": "markdown",
   "id": "4a5a5aa7-d8bf-44db-a60f-605b9328dae4",
   "metadata": {
    "jp-MarkdownHeadingCollapsed": true,
    "tags": []
   },
   "source": [
    "#### Cek column/row 'Order'"
   ]
  },
  {
   "cell_type": "code",
   "execution_count": 16,
   "id": "6c652a0b-3199-40a8-902d-2b747510dad0",
   "metadata": {
    "tags": []
   },
   "outputs": [
    {
     "data": {
      "text/html": [
       "<div>\n",
       "<style scoped>\n",
       "    .dataframe tbody tr th:only-of-type {\n",
       "        vertical-align: middle;\n",
       "    }\n",
       "\n",
       "    .dataframe tbody tr th {\n",
       "        vertical-align: top;\n",
       "    }\n",
       "\n",
       "    .dataframe thead th {\n",
       "        text-align: right;\n",
       "    }\n",
       "</style>\n",
       "<table border=\"1\" class=\"dataframe\">\n",
       "  <thead>\n",
       "    <tr style=\"text-align: right;\">\n",
       "      <th></th>\n",
       "      <th>id_order</th>\n",
       "      <th>fk_customer_id</th>\n",
       "      <th>order_date</th>\n",
       "      <th>fk_food_id</th>\n",
       "      <th>quantity</th>\n",
       "      <th>status</th>\n",
       "    </tr>\n",
       "  </thead>\n",
       "  <tbody>\n",
       "    <tr>\n",
       "      <th>0</th>\n",
       "      <td>1</td>\n",
       "      <td>14</td>\n",
       "      <td>2023-11-01</td>\n",
       "      <td>4</td>\n",
       "      <td>2</td>\n",
       "      <td>sukses</td>\n",
       "    </tr>\n",
       "    <tr>\n",
       "      <th>1</th>\n",
       "      <td>2</td>\n",
       "      <td>12</td>\n",
       "      <td>2023-11-02</td>\n",
       "      <td>7</td>\n",
       "      <td>2</td>\n",
       "      <td>sukses</td>\n",
       "    </tr>\n",
       "    <tr>\n",
       "      <th>2</th>\n",
       "      <td>3</td>\n",
       "      <td>26</td>\n",
       "      <td>2023-11-03</td>\n",
       "      <td>2</td>\n",
       "      <td>3</td>\n",
       "      <td>sukses</td>\n",
       "    </tr>\n",
       "    <tr>\n",
       "      <th>3</th>\n",
       "      <td>4</td>\n",
       "      <td>7</td>\n",
       "      <td>2023-11-04</td>\n",
       "      <td>7</td>\n",
       "      <td>2</td>\n",
       "      <td>pending</td>\n",
       "    </tr>\n",
       "    <tr>\n",
       "      <th>4</th>\n",
       "      <td>5</td>\n",
       "      <td>29</td>\n",
       "      <td>2023-11-05</td>\n",
       "      <td>2</td>\n",
       "      <td>2</td>\n",
       "      <td>sukses</td>\n",
       "    </tr>\n",
       "    <tr>\n",
       "      <th>...</th>\n",
       "      <td>...</td>\n",
       "      <td>...</td>\n",
       "      <td>...</td>\n",
       "      <td>...</td>\n",
       "      <td>...</td>\n",
       "      <td>...</td>\n",
       "    </tr>\n",
       "    <tr>\n",
       "      <th>87</th>\n",
       "      <td>88</td>\n",
       "      <td>24</td>\n",
       "      <td>2024-01-27</td>\n",
       "      <td>3</td>\n",
       "      <td>2</td>\n",
       "      <td>sukses</td>\n",
       "    </tr>\n",
       "    <tr>\n",
       "      <th>88</th>\n",
       "      <td>89</td>\n",
       "      <td>4</td>\n",
       "      <td>2024-01-28</td>\n",
       "      <td>6</td>\n",
       "      <td>2</td>\n",
       "      <td>sukses</td>\n",
       "    </tr>\n",
       "    <tr>\n",
       "      <th>89</th>\n",
       "      <td>90</td>\n",
       "      <td>13</td>\n",
       "      <td>2024-01-29</td>\n",
       "      <td>1</td>\n",
       "      <td>1</td>\n",
       "      <td>pending</td>\n",
       "    </tr>\n",
       "    <tr>\n",
       "      <th>90</th>\n",
       "      <td>91</td>\n",
       "      <td>7</td>\n",
       "      <td>2024-01-30</td>\n",
       "      <td>3</td>\n",
       "      <td>3</td>\n",
       "      <td>pending</td>\n",
       "    </tr>\n",
       "    <tr>\n",
       "      <th>91</th>\n",
       "      <td>92</td>\n",
       "      <td>9</td>\n",
       "      <td>2024-01-31</td>\n",
       "      <td>7</td>\n",
       "      <td>2</td>\n",
       "      <td>sukses</td>\n",
       "    </tr>\n",
       "  </tbody>\n",
       "</table>\n",
       "<p>92 rows × 6 columns</p>\n",
       "</div>"
      ],
      "text/plain": [
       "    id_order  fk_customer_id  order_date  fk_food_id  quantity   status\n",
       "0          1              14  2023-11-01           4         2   sukses\n",
       "1          2              12  2023-11-02           7         2   sukses\n",
       "2          3              26  2023-11-03           2         3   sukses\n",
       "3          4               7  2023-11-04           7         2  pending\n",
       "4          5              29  2023-11-05           2         2   sukses\n",
       "..       ...             ...         ...         ...       ...      ...\n",
       "87        88              24  2024-01-27           3         2   sukses\n",
       "88        89               4  2024-01-28           6         2   sukses\n",
       "89        90              13  2024-01-29           1         1  pending\n",
       "90        91               7  2024-01-30           3         3  pending\n",
       "91        92               9  2024-01-31           7         2   sukses\n",
       "\n",
       "[92 rows x 6 columns]"
      ]
     },
     "execution_count": 16,
     "metadata": {},
     "output_type": "execute_result"
    }
   ],
   "source": [
    "query2 = \"\"\"\n",
    "SELECT * from `aqueous-freedom-398208.OFD_Team_1.Order`\n",
    "ORDER BY id_order ASC;\n",
    "\"\"\"\n",
    "\n",
    "result2 = bigquery_client.query(query2)\n",
    "df2 = result2.to_dataframe()\n",
    "df2"
   ]
  },
  {
   "cell_type": "code",
   "execution_count": 17,
   "id": "a1b21072-369b-4752-abbc-4a945fe7f021",
   "metadata": {
    "tags": []
   },
   "outputs": [
    {
     "name": "stdout",
     "output_type": "stream",
     "text": [
      "<class 'pandas.core.frame.DataFrame'>\n",
      "RangeIndex: 92 entries, 0 to 91\n",
      "Data columns (total 6 columns):\n",
      " #   Column          Non-Null Count  Dtype \n",
      "---  ------          --------------  ----- \n",
      " 0   id_order        92 non-null     Int64 \n",
      " 1   fk_customer_id  92 non-null     Int64 \n",
      " 2   order_date      92 non-null     dbdate\n",
      " 3   fk_food_id      92 non-null     Int64 \n",
      " 4   quantity        92 non-null     Int64 \n",
      " 5   status          92 non-null     object\n",
      "dtypes: Int64(4), dbdate(1), object(1)\n",
      "memory usage: 4.8+ KB\n"
     ]
    }
   ],
   "source": [
    "df2.info()"
   ]
  },
  {
   "cell_type": "markdown",
   "id": "6621c840-a31e-4a3c-b8f3-78aefab72374",
   "metadata": {
    "jp-MarkdownHeadingCollapsed": true,
    "tags": []
   },
   "source": [
    "#### Cek column/row 'Food'"
   ]
  },
  {
   "cell_type": "code",
   "execution_count": 19,
   "id": "069cb007-8b8f-44f2-b9ce-e65362043370",
   "metadata": {
    "tags": []
   },
   "outputs": [
    {
     "data": {
      "text/html": [
       "<div>\n",
       "<style scoped>\n",
       "    .dataframe tbody tr th:only-of-type {\n",
       "        vertical-align: middle;\n",
       "    }\n",
       "\n",
       "    .dataframe tbody tr th {\n",
       "        vertical-align: top;\n",
       "    }\n",
       "\n",
       "    .dataframe thead th {\n",
       "        text-align: right;\n",
       "    }\n",
       "</style>\n",
       "<table border=\"1\" class=\"dataframe\">\n",
       "  <thead>\n",
       "    <tr style=\"text-align: right;\">\n",
       "      <th></th>\n",
       "      <th>id_food</th>\n",
       "      <th>food_name</th>\n",
       "      <th>fk_resto_id</th>\n",
       "      <th>price</th>\n",
       "    </tr>\n",
       "  </thead>\n",
       "  <tbody>\n",
       "    <tr>\n",
       "      <th>0</th>\n",
       "      <td>1</td>\n",
       "      <td>Nasi Goreng</td>\n",
       "      <td>1</td>\n",
       "      <td>25000</td>\n",
       "    </tr>\n",
       "    <tr>\n",
       "      <th>1</th>\n",
       "      <td>2</td>\n",
       "      <td>Ayam Bakar</td>\n",
       "      <td>1</td>\n",
       "      <td>35000</td>\n",
       "    </tr>\n",
       "    <tr>\n",
       "      <th>2</th>\n",
       "      <td>3</td>\n",
       "      <td>Soto Ayam</td>\n",
       "      <td>2</td>\n",
       "      <td>30000</td>\n",
       "    </tr>\n",
       "    <tr>\n",
       "      <th>3</th>\n",
       "      <td>4</td>\n",
       "      <td>Bakso</td>\n",
       "      <td>3</td>\n",
       "      <td>18000</td>\n",
       "    </tr>\n",
       "    <tr>\n",
       "      <th>4</th>\n",
       "      <td>5</td>\n",
       "      <td>Mie Goreng</td>\n",
       "      <td>4</td>\n",
       "      <td>20000</td>\n",
       "    </tr>\n",
       "    <tr>\n",
       "      <th>5</th>\n",
       "      <td>6</td>\n",
       "      <td>Sate Ayam</td>\n",
       "      <td>3</td>\n",
       "      <td>25000</td>\n",
       "    </tr>\n",
       "    <tr>\n",
       "      <th>6</th>\n",
       "      <td>7</td>\n",
       "      <td>Pecel Lele</td>\n",
       "      <td>4</td>\n",
       "      <td>18000</td>\n",
       "    </tr>\n",
       "  </tbody>\n",
       "</table>\n",
       "</div>"
      ],
      "text/plain": [
       "   id_food    food_name  fk_resto_id  price\n",
       "0        1  Nasi Goreng            1  25000\n",
       "1        2   Ayam Bakar            1  35000\n",
       "2        3    Soto Ayam            2  30000\n",
       "3        4        Bakso            3  18000\n",
       "4        5   Mie Goreng            4  20000\n",
       "5        6    Sate Ayam            3  25000\n",
       "6        7   Pecel Lele            4  18000"
      ]
     },
     "execution_count": 19,
     "metadata": {},
     "output_type": "execute_result"
    }
   ],
   "source": [
    "query3 = \"\"\"\n",
    "SELECT * from `aqueous-freedom-398208.OFD_Team_1.Food`\n",
    "ORDER BY id_food ASC;\n",
    "\"\"\"\n",
    "\n",
    "result3 = bigquery_client.query(query3)\n",
    "df3 = result3.to_dataframe()\n",
    "df3"
   ]
  },
  {
   "cell_type": "code",
   "execution_count": 20,
   "id": "ddc5f237-f709-4597-9882-843ffda2aa02",
   "metadata": {
    "tags": []
   },
   "outputs": [
    {
     "name": "stdout",
     "output_type": "stream",
     "text": [
      "<class 'pandas.core.frame.DataFrame'>\n",
      "RangeIndex: 7 entries, 0 to 6\n",
      "Data columns (total 4 columns):\n",
      " #   Column       Non-Null Count  Dtype \n",
      "---  ------       --------------  ----- \n",
      " 0   id_food      7 non-null      Int64 \n",
      " 1   food_name    7 non-null      object\n",
      " 2   fk_resto_id  7 non-null      Int64 \n",
      " 3   price        7 non-null      Int64 \n",
      "dtypes: Int64(3), object(1)\n",
      "memory usage: 377.0+ bytes\n"
     ]
    }
   ],
   "source": [
    "df3.info()"
   ]
  },
  {
   "cell_type": "markdown",
   "id": "d73e6715-7cd9-465b-9245-d3566e388356",
   "metadata": {
    "jp-MarkdownHeadingCollapsed": true,
    "tags": []
   },
   "source": [
    "#### Cek column/row 'Restaurant'"
   ]
  },
  {
   "cell_type": "code",
   "execution_count": 24,
   "id": "70ba3580-79c0-4867-9b0f-b116156a550b",
   "metadata": {
    "tags": []
   },
   "outputs": [
    {
     "data": {
      "text/html": [
       "<div>\n",
       "<style scoped>\n",
       "    .dataframe tbody tr th:only-of-type {\n",
       "        vertical-align: middle;\n",
       "    }\n",
       "\n",
       "    .dataframe tbody tr th {\n",
       "        vertical-align: top;\n",
       "    }\n",
       "\n",
       "    .dataframe thead th {\n",
       "        text-align: right;\n",
       "    }\n",
       "</style>\n",
       "<table border=\"1\" class=\"dataframe\">\n",
       "  <thead>\n",
       "    <tr style=\"text-align: right;\">\n",
       "      <th></th>\n",
       "      <th>id_restaurant</th>\n",
       "      <th>restaurant_name</th>\n",
       "      <th>city</th>\n",
       "    </tr>\n",
       "  </thead>\n",
       "  <tbody>\n",
       "    <tr>\n",
       "      <th>0</th>\n",
       "      <td>1</td>\n",
       "      <td>Ambar Resto</td>\n",
       "      <td>Jakarta Barat</td>\n",
       "    </tr>\n",
       "    <tr>\n",
       "      <th>1</th>\n",
       "      <td>2</td>\n",
       "      <td>Bunda Resto</td>\n",
       "      <td>Jakarta Timur</td>\n",
       "    </tr>\n",
       "    <tr>\n",
       "      <th>2</th>\n",
       "      <td>3</td>\n",
       "      <td>Cak Resto</td>\n",
       "      <td>Surabaya</td>\n",
       "    </tr>\n",
       "    <tr>\n",
       "      <th>3</th>\n",
       "      <td>4</td>\n",
       "      <td>Mang Asep Resto</td>\n",
       "      <td>Bandung</td>\n",
       "    </tr>\n",
       "  </tbody>\n",
       "</table>\n",
       "</div>"
      ],
      "text/plain": [
       "   id_restaurant  restaurant_name           city\n",
       "0              1      Ambar Resto  Jakarta Barat\n",
       "1              2      Bunda Resto  Jakarta Timur\n",
       "2              3        Cak Resto       Surabaya\n",
       "3              4  Mang Asep Resto        Bandung"
      ]
     },
     "execution_count": 24,
     "metadata": {},
     "output_type": "execute_result"
    }
   ],
   "source": [
    "query4 = \"\"\"\n",
    "SELECT * from `aqueous-freedom-398208.OFD_Team_1.Restaurant`\n",
    "ORDER BY id_restaurant ASC;\n",
    "\"\"\"\n",
    "\n",
    "result4 = bigquery_client.query(query4)\n",
    "df4 = result4.to_dataframe()\n",
    "df4"
   ]
  },
  {
   "cell_type": "code",
   "execution_count": 25,
   "id": "18b7c48d-7487-47af-9693-9c64d0aa7362",
   "metadata": {
    "tags": []
   },
   "outputs": [
    {
     "name": "stdout",
     "output_type": "stream",
     "text": [
      "<class 'pandas.core.frame.DataFrame'>\n",
      "RangeIndex: 4 entries, 0 to 3\n",
      "Data columns (total 3 columns):\n",
      " #   Column           Non-Null Count  Dtype \n",
      "---  ------           --------------  ----- \n",
      " 0   id_restaurant    4 non-null      Int64 \n",
      " 1   restaurant_name  4 non-null      object\n",
      " 2   city             4 non-null      object\n",
      "dtypes: Int64(1), object(2)\n",
      "memory usage: 232.0+ bytes\n"
     ]
    }
   ],
   "source": [
    "df4.info()"
   ]
  },
  {
   "cell_type": "markdown",
   "id": "a3b4b2e3-d577-458a-a27c-bdb3bd1d7f7b",
   "metadata": {
    "jp-MarkdownHeadingCollapsed": true,
    "tags": []
   },
   "source": [
    "## 2. Apakah ada data type yang tidak sesuai?"
   ]
  },
  {
   "cell_type": "markdown",
   "id": "b6ba9c4e-f943-4aa6-abc4-0dd7ed4e4f12",
   "metadata": {},
   "source": [
    "##### Jawab: tidak ada, semua data telah sesuai plan"
   ]
  },
  {
   "cell_type": "markdown",
   "id": "327dc85b-496e-4829-a444-4f6fa4f719e0",
   "metadata": {
    "jp-MarkdownHeadingCollapsed": true,
    "tags": []
   },
   "source": [
    "## 3. Apakah ada pertanyaan utama tim business development sebelumnya masih bisa terjawab?"
   ]
  },
  {
   "cell_type": "markdown",
   "id": "782faac4-94e0-46e4-af7f-5cc5f05adee1",
   "metadata": {},
   "source": [
    "##### Jawab: Bisa terjawab dan sudah terjawab semua"
   ]
  }
 ],
 "metadata": {
  "kernelspec": {
   "display_name": "Python 3 (ipykernel)",
   "language": "python",
   "name": "python3"
  },
  "language_info": {
   "codemirror_mode": {
    "name": "ipython",
    "version": 3
   },
   "file_extension": ".py",
   "mimetype": "text/x-python",
   "name": "python",
   "nbconvert_exporter": "python",
   "pygments_lexer": "ipython3",
   "version": "3.11.5"
  }
 },
 "nbformat": 4,
 "nbformat_minor": 5
}
